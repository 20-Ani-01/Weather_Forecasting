{
 "cells": [
  {
   "cell_type": "code",
   "execution_count": 43,
   "id": "80fcd5ff-97e1-4551-925a-20fff6c64334",
   "metadata": {},
   "outputs": [],
   "source": [
    "import pandas as pd\n",
    "import numpy as np\n",
    "from sklearn.model_selection import train_test_split\n",
    "from sklearn.preprocessing import StandardScaler\n",
    "from datetime import timedelta\n",
    "from sklearn.metrics import mean_absolute_error, mean_squared_error, r2_score"
   ]
  },
  {
   "cell_type": "code",
   "execution_count": 44,
   "id": "a3da5da4-7618-4930-bed5-6054b673dc1c",
   "metadata": {},
   "outputs": [],
   "source": [
    "df = pd.read_csv('kanpur.csv')"
   ]
  },
  {
   "cell_type": "code",
   "execution_count": 45,
   "id": "67dca92c-c889-48ca-82d9-395465f4994f",
   "metadata": {},
   "outputs": [
    {
     "data": {
      "text/plain": [
       "Index(['date_time', 'maxtempC', 'mintempC', 'totalSnow_cm', 'sunHour',\n",
       "       'uvIndex', 'uvIndex.1', 'moon_illumination', 'DewPointC', 'FeelsLikeC',\n",
       "       'HeatIndexC', 'WindChillC', 'WindGustKmph', 'cloudcover', 'humidity',\n",
       "       'precipMM', 'pressure', 'tempC', 'visibility', 'winddirDegree',\n",
       "       'windspeedKmph'],\n",
       "      dtype='object')"
      ]
     },
     "execution_count": 45,
     "metadata": {},
     "output_type": "execute_result"
    }
   ],
   "source": [
    "df = df.drop(columns=['moonrise', 'moonset', 'sunrise', 'sunset'])\n",
    "df.columns"
   ]
  },
  {
   "cell_type": "code",
   "execution_count": 46,
   "id": "b0af242c-26aa-4a36-8770-9a141aa25ea5",
   "metadata": {},
   "outputs": [],
   "source": [
    "# Assuming df is your DataFrame with the weather data\n",
    "def create_lag_features(df, target_column, lags):\n",
    "    for lag in range(1, lags + 1):\n",
    "        df[f'{target_column}_lag_{lag}'] = df[target_column].shift(lag)\n",
    "    return df\n"
   ]
  },
  {
   "cell_type": "code",
   "execution_count": 47,
   "id": "a9080bf6-4b02-4e2e-a6f3-ea9130818ced",
   "metadata": {},
   "outputs": [],
   "source": [
    "# Apply lag features for each weather feature you're predicting\n",
    "lag_days = 7\n",
    "for col in ['maxtempC', 'mintempC', 'precipMM', 'windspeedKmph']:\n",
    "    df = create_lag_features(df, col, lag_days)\n"
   ]
  },
  {
   "cell_type": "code",
   "execution_count": 48,
   "id": "6aa03faa-9766-44e8-981f-4e891c9f2d04",
   "metadata": {},
   "outputs": [],
   "source": [
    "df['date_time'] = pd.to_datetime(df['date_time'])"
   ]
  },
  {
   "cell_type": "code",
   "execution_count": 49,
   "id": "aee79dc1-3442-469b-97e6-5978f4a55d98",
   "metadata": {},
   "outputs": [],
   "source": [
    "df['month'] = df['date_time'].dt.month\n"
   ]
  },
  {
   "cell_type": "code",
   "execution_count": 50,
   "id": "b0601843-d426-4f9b-9de6-ac9f71c952b7",
   "metadata": {},
   "outputs": [],
   "source": [
    "df.dropna(inplace=True)  # Drop rows with NaN values created by lag features"
   ]
  },
  {
   "cell_type": "code",
   "execution_count": 51,
   "id": "615f7ff8-fbc8-4cfe-adba-9e1d6ba1f8bb",
   "metadata": {},
   "outputs": [],
   "source": [
    "X = df.drop(columns=['maxtempC', 'mintempC', 'date_time'])\n",
    "y_max = df['maxtempC']\n",
    "y_min = df['mintempC']"
   ]
  },
  {
   "cell_type": "code",
   "execution_count": 52,
   "id": "e3d4811e-8f16-484f-a586-aa4f8d7acf23",
   "metadata": {},
   "outputs": [],
   "source": [
    "# Train-test split\n",
    "X_train, X_test, y_max_train, y_max_test = train_test_split(X, y_max, test_size=0.2, random_state=42)\n",
    "X_train, X_test, y_min_train, y_min_test = train_test_split(X, y_min, test_size=0.2, random_state=42)\n"
   ]
  },
  {
   "cell_type": "code",
   "execution_count": 53,
   "id": "50ff73bd-f61f-4f47-b437-40c64b865037",
   "metadata": {},
   "outputs": [],
   "source": [
    "# Feature scaling\n",
    "scaler = StandardScaler()\n",
    "X_train = scaler.fit_transform(X_train)\n",
    "X_test = scaler.transform(X_test)"
   ]
  },
  {
   "cell_type": "markdown",
   "id": "8e4aaa6a-0063-41a4-a453-3bc5f2697511",
   "metadata": {},
   "source": [
    "**Random Forest**"
   ]
  },
  {
   "cell_type": "code",
   "execution_count": 69,
   "id": "e6f3c411-16d9-421f-96f4-2466030adb69",
   "metadata": {},
   "outputs": [],
   "source": [
    "from sklearn.ensemble import RandomForestRegressor\n",
    "from sklearn.metrics import mean_absolute_error\n"
   ]
  },
  {
   "cell_type": "code",
   "execution_count": 70,
   "id": "0ba45d14-8abf-482e-8c4b-0ca811817775",
   "metadata": {},
   "outputs": [],
   "source": [
    "# Max temperature prediction\n",
    "rf_max = RandomForestRegressor()\n",
    "rf_max.fit(X_train, y_max_train)\n",
    "y_max_pred = rf_max.predict(X_test[-7:])\n"
   ]
  },
  {
   "cell_type": "code",
   "execution_count": 71,
   "id": "b5be012c-4d42-429b-87e8-2efcdd0e99b8",
   "metadata": {},
   "outputs": [],
   "source": [
    "rf_max_pred = rf_max.predict(X_test)"
   ]
  },
  {
   "cell_type": "code",
   "execution_count": 72,
   "id": "c076111f-b274-4962-b69e-e6c9d5d2c2ae",
   "metadata": {},
   "outputs": [
    {
     "name": "stdout",
     "output_type": "stream",
     "text": [
      "Mean absolute error: 0.08\n"
     ]
    }
   ],
   "source": [
    "print(\"Mean absolute error: %.2f\" % np.mean(np.absolute(rf_max_pred - y_max_test)))"
   ]
  },
  {
   "cell_type": "code",
   "execution_count": 73,
   "id": "2a7a3821-1a5e-4e57-8a4b-214766f37ca6",
   "metadata": {},
   "outputs": [],
   "source": [
    "mae_max_rf = np.mean(np.absolute(rf_max_pred - y_max_test))"
   ]
  },
  {
   "cell_type": "code",
   "execution_count": 74,
   "id": "52c4fc1a-421c-4993-a95e-6fe539b926ae",
   "metadata": {},
   "outputs": [],
   "source": [
    "# Min temperature prediction\n",
    "rf_min = RandomForestRegressor()\n",
    "rf_min.fit(X_train, y_min_train)\n",
    "y_min_pred = rf_min.predict(X_test[-7:])\n"
   ]
  },
  {
   "cell_type": "code",
   "execution_count": 75,
   "id": "30942cbb-bcda-462a-b0f2-ef2466a9ff7a",
   "metadata": {},
   "outputs": [],
   "source": [
    "rf_min_pred = rf_min.predict(X_test)"
   ]
  },
  {
   "cell_type": "code",
   "execution_count": 76,
   "id": "1c41c1c9-3e65-4dc0-b2fd-eb7089a9ec16",
   "metadata": {
    "scrolled": true
   },
   "outputs": [
    {
     "name": "stdout",
     "output_type": "stream",
     "text": [
      "Mean absolute error: 0.07\n"
     ]
    }
   ],
   "source": [
    "print(\"Mean absolute error: %.2f\" % np.mean(np.absolute(rf_min_pred - y_min_test)))"
   ]
  },
  {
   "cell_type": "code",
   "execution_count": 77,
   "id": "5d6b1496-dde8-496a-a2b2-293526466d7b",
   "metadata": {},
   "outputs": [],
   "source": [
    "mae_min_rf = np.mean(np.absolute(rf_min_pred - y_min_test))"
   ]
  },
  {
   "cell_type": "code",
   "execution_count": 78,
   "id": "ce38290f-53a8-4c4f-b794-a6abf25d1c27",
   "metadata": {},
   "outputs": [],
   "source": [
    "last_date = pd.to_datetime('2020-06-01')"
   ]
  },
  {
   "cell_type": "code",
   "execution_count": 79,
   "id": "aa5a0d3a-f628-41d5-a5af-831cedcde68c",
   "metadata": {},
   "outputs": [
    {
     "name": "stdout",
     "output_type": "stream",
     "text": [
      "Weather Forecast for the Next 7 Days:\n",
      "Date: 2020-06-02 - Max Temp: 29.03°C, Min Temp: 14.96°C\n",
      "Date: 2020-06-03 - Max Temp: 37.14°C, Min Temp: 18.00°C\n",
      "Date: 2020-06-04 - Max Temp: 22.00°C, Min Temp: 9.00°C\n",
      "Date: 2020-06-05 - Max Temp: 24.97°C, Min Temp: 12.00°C\n",
      "Date: 2020-06-06 - Max Temp: 25.00°C, Min Temp: 15.00°C\n",
      "Date: 2020-06-07 - Max Temp: 46.00°C, Min Temp: 27.00°C\n",
      "Date: 2020-06-08 - Max Temp: 24.00°C, Min Temp: 16.00°C\n"
     ]
    }
   ],
   "source": [
    "print(\"Weather Forecast for the Next 7 Days:\")\n",
    "for i in range(7):\n",
    "    prediction_date = last_date + timedelta(days=i+1)\n",
    "    print(f\"Date: {prediction_date.strftime('%Y-%m-%d')} - Max Temp: {y_max_pred[i]:.2f}°C, Min Temp: {y_min_pred[i]:.2f}°C\")"
   ]
  },
  {
   "cell_type": "code",
   "execution_count": 80,
   "id": "4ee45aba-4ebe-4583-838b-87953b8e869c",
   "metadata": {},
   "outputs": [
    {
     "name": "stdout",
     "output_type": "stream",
     "text": [
      "Max Temperature Prediction - MAE: 0.08\n",
      "Min Temperature Prediction - MAE: 0.07\n"
     ]
    }
   ],
   "source": [
    "print(f\"Max Temperature Prediction - MAE: {mae_max_rf:.2f}\")\n",
    "print(f\"Min Temperature Prediction - MAE: {mae_min_rf:.2f}\")"
   ]
  },
  {
   "cell_type": "code",
   "execution_count": 81,
   "id": "edf3128c-e57d-4c9b-8a58-a44ba59a7766",
   "metadata": {},
   "outputs": [],
   "source": [
    "# Calculate performance metrics\n",
    "def evaluate_metrics(y_true, y_pred):\n",
    "    mae = mean_absolute_error(y_true, y_pred)\n",
    "    rmse = np.sqrt(mean_squared_error(y_true, y_pred))\n",
    "    r2 = r2_score(y_true, y_pred)\n",
    "    return mae, rmse, r2\n"
   ]
  },
  {
   "cell_type": "code",
   "execution_count": 82,
   "id": "06122ca5-c42a-4085-a4d3-6be6d1cda08b",
   "metadata": {},
   "outputs": [],
   "source": [
    "# Assuming y_test_max and y_test_min are your actual test target values\n",
    "mae_max, rmse_max, r2_max = evaluate_metrics(y_max_test, rf_max_pred)\n",
    "mae_min, rmse_min, r2_min = evaluate_metrics(y_min_test, rf_min_pred)"
   ]
  },
  {
   "cell_type": "code",
   "execution_count": 83,
   "id": "ad9aa128-f394-4897-a24e-ef930960a640",
   "metadata": {},
   "outputs": [
    {
     "name": "stdout",
     "output_type": "stream",
     "text": [
      "Max Temperature Prediction - MAE: 0.08, RMSE: 0.36, R²: 1.00\n",
      "Min Temperature Prediction - MAE: 0.07, RMSE: 0.28, R²: 1.00\n"
     ]
    }
   ],
   "source": [
    "print(f\"Max Temperature Prediction - MAE: {mae_max:.2f}, RMSE: {rmse_max:.2f}, R²: {r2_max:.2f}\")\n",
    "print(f\"Min Temperature Prediction - MAE: {mae_min:.2f}, RMSE: {rmse_min:.2f}, R²: {r2_min:.2f}\")"
   ]
  },
  {
   "cell_type": "markdown",
   "id": "2f1d72ad-f7c0-45f3-b02b-653c05b31947",
   "metadata": {},
   "source": [
    "**LSTM**"
   ]
  },
  {
   "cell_type": "code",
   "execution_count": 84,
   "id": "a26dd240-64e4-43f4-b86c-1a4aa015938c",
   "metadata": {},
   "outputs": [],
   "source": [
    "import numpy as np\n",
    "import pandas as pd\n",
    "from keras.models import Sequential\n",
    "from keras.layers import LSTM, Dense, Dropout\n",
    "from keras.callbacks import EarlyStopping\n",
    "from datetime import timedelta\n"
   ]
  },
  {
   "cell_type": "code",
   "execution_count": 85,
   "id": "27959466-2240-465d-8d2c-8d9962078434",
   "metadata": {},
   "outputs": [],
   "source": [
    "# Reshape the data for LSTM\n",
    "X_train_lstm = np.reshape(X_train, (X_train.shape[0], 1, X_train.shape[1]))\n",
    "X_test_lstm = np.reshape(X_test[-7:], (7, 1, X_test.shape[1]))\n"
   ]
  },
  {
   "cell_type": "code",
   "execution_count": 86,
   "id": "253586eb-bb4f-43d5-939a-0a85f70c5375",
   "metadata": {},
   "outputs": [],
   "source": [
    "# Common settings\n",
    "batch_size = 32\n",
    "epochs = 50"
   ]
  },
  {
   "cell_type": "code",
   "execution_count": 87,
   "id": "6f605672-f7c6-4f71-8b0b-ec2b0cc0fd21",
   "metadata": {},
   "outputs": [],
   "source": [
    "# Early stopping to prevent overfitting\n",
    "early_stopping = EarlyStopping(monitor='loss', patience=5, restore_best_weights=True)"
   ]
  },
  {
   "cell_type": "code",
   "execution_count": 88,
   "id": "ef753001-78a3-40cb-9344-816ebb8bbda4",
   "metadata": {},
   "outputs": [],
   "source": [
    "# Function to build LSTM model\n",
    "def build_lstm_model():\n",
    "    model = Sequential()\n",
    "    model.add(LSTM(50, return_sequences=True, input_shape=(1, X_train.shape[1])))\n",
    "    model.add(Dropout(0.2))\n",
    "    model.add(LSTM(50, return_sequences=False))\n",
    "    model.add(Dropout(0.2))\n",
    "    model.add(Dense(25))\n",
    "    model.add(Dense(1))\n",
    "    model.compile(optimizer='adam', loss='mean_squared_error')\n",
    "    return model"
   ]
  },
  {
   "cell_type": "code",
   "execution_count": 89,
   "id": "caae71e0-2704-4ad3-bbb7-eeee4afd7d47",
   "metadata": {},
   "outputs": [
    {
     "name": "stdout",
     "output_type": "stream",
     "text": [
      "Epoch 1/50\n"
     ]
    },
    {
     "name": "stderr",
     "output_type": "stream",
     "text": [
      "C:\\Users\\asoke\\anaconda3\\Lib\\site-packages\\keras\\src\\layers\\rnn\\rnn.py:204: UserWarning: Do not pass an `input_shape`/`input_dim` argument to a layer. When using Sequential models, prefer using an `Input(shape)` object as the first layer in the model instead.\n",
      "  super().__init__(**kwargs)\n"
     ]
    },
    {
     "name": "stdout",
     "output_type": "stream",
     "text": [
      "2411/2411 - 7s - 3ms/step - loss: 43.3544\n",
      "Epoch 2/50\n",
      "2411/2411 - 4s - 2ms/step - loss: 6.2182\n",
      "Epoch 3/50\n",
      "2411/2411 - 4s - 2ms/step - loss: 3.8926\n",
      "Epoch 4/50\n",
      "2411/2411 - 4s - 2ms/step - loss: 1.7417\n",
      "Epoch 5/50\n",
      "2411/2411 - 4s - 2ms/step - loss: 0.8737\n",
      "Epoch 6/50\n",
      "2411/2411 - 4s - 2ms/step - loss: 0.6822\n",
      "Epoch 7/50\n",
      "2411/2411 - 4s - 2ms/step - loss: 0.6299\n",
      "Epoch 8/50\n",
      "2411/2411 - 4s - 2ms/step - loss: 0.6135\n",
      "Epoch 9/50\n",
      "2411/2411 - 4s - 2ms/step - loss: 0.5864\n",
      "Epoch 10/50\n",
      "2411/2411 - 4s - 2ms/step - loss: 0.5731\n",
      "Epoch 11/50\n",
      "2411/2411 - 4s - 2ms/step - loss: 0.5753\n",
      "Epoch 12/50\n",
      "2411/2411 - 4s - 2ms/step - loss: 0.5661\n",
      "Epoch 13/50\n",
      "2411/2411 - 4s - 2ms/step - loss: 0.5592\n",
      "Epoch 14/50\n",
      "2411/2411 - 5s - 2ms/step - loss: 0.5502\n",
      "Epoch 15/50\n",
      "2411/2411 - 4s - 2ms/step - loss: 0.5477\n",
      "Epoch 16/50\n",
      "2411/2411 - 5s - 2ms/step - loss: 0.5439\n",
      "Epoch 17/50\n",
      "2411/2411 - 4s - 2ms/step - loss: 0.5359\n",
      "Epoch 18/50\n",
      "2411/2411 - 7s - 3ms/step - loss: 0.5361\n",
      "Epoch 19/50\n",
      "2411/2411 - 7s - 3ms/step - loss: 0.5270\n",
      "Epoch 20/50\n",
      "2411/2411 - 4s - 1ms/step - loss: 0.5311\n",
      "Epoch 21/50\n",
      "2411/2411 - 4s - 2ms/step - loss: 0.5304\n",
      "Epoch 22/50\n",
      "2411/2411 - 4s - 2ms/step - loss: 0.5181\n",
      "Epoch 23/50\n",
      "2411/2411 - 4s - 2ms/step - loss: 0.5252\n",
      "Epoch 24/50\n",
      "2411/2411 - 4s - 2ms/step - loss: 0.5139\n",
      "Epoch 25/50\n",
      "2411/2411 - 4s - 2ms/step - loss: 0.5156\n",
      "Epoch 26/50\n",
      "2411/2411 - 4s - 2ms/step - loss: 0.5143\n",
      "Epoch 27/50\n",
      "2411/2411 - 4s - 2ms/step - loss: 0.5181\n",
      "Epoch 28/50\n",
      "2411/2411 - 4s - 2ms/step - loss: 0.5082\n",
      "Epoch 29/50\n",
      "2411/2411 - 4s - 2ms/step - loss: 0.5109\n",
      "Epoch 30/50\n",
      "2411/2411 - 4s - 2ms/step - loss: 0.5079\n",
      "Epoch 31/50\n",
      "2411/2411 - 4s - 2ms/step - loss: 0.4964\n",
      "Epoch 32/50\n",
      "2411/2411 - 4s - 2ms/step - loss: 0.5013\n",
      "Epoch 33/50\n",
      "2411/2411 - 4s - 2ms/step - loss: 0.5018\n",
      "Epoch 34/50\n",
      "2411/2411 - 4s - 2ms/step - loss: 0.5007\n",
      "Epoch 35/50\n",
      "2411/2411 - 4s - 2ms/step - loss: 0.4947\n",
      "Epoch 36/50\n",
      "2411/2411 - 4s - 2ms/step - loss: 0.4940\n",
      "Epoch 37/50\n",
      "2411/2411 - 4s - 2ms/step - loss: 0.5024\n",
      "Epoch 38/50\n",
      "2411/2411 - 4s - 2ms/step - loss: 0.4900\n",
      "Epoch 39/50\n",
      "2411/2411 - 4s - 2ms/step - loss: 0.4902\n",
      "Epoch 40/50\n",
      "2411/2411 - 4s - 2ms/step - loss: 0.4933\n",
      "Epoch 41/50\n",
      "2411/2411 - 4s - 2ms/step - loss: 0.4916\n",
      "Epoch 42/50\n",
      "2411/2411 - 4s - 2ms/step - loss: 0.4865\n",
      "Epoch 43/50\n",
      "2411/2411 - 4s - 2ms/step - loss: 0.4877\n",
      "Epoch 44/50\n",
      "2411/2411 - 4s - 2ms/step - loss: 0.4826\n",
      "Epoch 45/50\n",
      "2411/2411 - 4s - 2ms/step - loss: 0.4919\n",
      "Epoch 46/50\n",
      "2411/2411 - 4s - 2ms/step - loss: 0.4861\n",
      "Epoch 47/50\n",
      "2411/2411 - 4s - 2ms/step - loss: 0.4852\n",
      "Epoch 48/50\n",
      "2411/2411 - 4s - 2ms/step - loss: 0.4800\n",
      "Epoch 49/50\n",
      "2411/2411 - 4s - 2ms/step - loss: 0.4842\n",
      "Epoch 50/50\n",
      "2411/2411 - 4s - 2ms/step - loss: 0.4803\n",
      "\u001b[1m1/1\u001b[0m \u001b[32m━━━━━━━━━━━━━━━━━━━━\u001b[0m\u001b[37m\u001b[0m \u001b[1m0s\u001b[0m 350ms/step\n"
     ]
    }
   ],
   "source": [
    "# Train the model for max temperature\n",
    "model_max = build_lstm_model()\n",
    "model_max.fit(X_train_lstm, y_max_train, batch_size=batch_size, epochs=epochs,\n",
    "              callbacks=[early_stopping], shuffle=True, verbose=2)\n",
    "y_max_pred_lstm = model_max.predict(X_test_lstm)\n"
   ]
  },
  {
   "cell_type": "code",
   "execution_count": 90,
   "id": "0a9bee84-ce76-4965-9465-48f50802cfad",
   "metadata": {},
   "outputs": [
    {
     "name": "stdout",
     "output_type": "stream",
     "text": [
      "Epoch 1/50\n",
      "2411/2411 - 7s - 3ms/step - loss: 20.2878\n",
      "Epoch 2/50\n",
      "2411/2411 - 4s - 2ms/step - loss: 3.0607\n",
      "Epoch 3/50\n",
      "2411/2411 - 4s - 2ms/step - loss: 1.8136\n",
      "Epoch 4/50\n",
      "2411/2411 - 4s - 2ms/step - loss: 0.9952\n",
      "Epoch 5/50\n",
      "2411/2411 - 4s - 2ms/step - loss: 0.7264\n",
      "\u001b[1m1/1\u001b[0m \u001b[32m━━━━━━━━━━━━━━━━━━━━\u001b[0m\u001b[37m\u001b[0m \u001b[1m0s\u001b[0m 331ms/step\n"
     ]
    }
   ],
   "source": [
    "# Train the model for min temperature\n",
    "model_min = build_lstm_model()\n",
    "model_min.fit(X_train_lstm, y_min_train, batch_size=batch_size, epochs=epochs,\n",
    "              callbacks=[early_stopping], shuffle=True, verbose=2)\n",
    "y_min_pred_lstm = model_min.predict(X_test_lstm)"
   ]
  },
  {
   "cell_type": "code",
   "execution_count": 91,
   "id": "6d538228-b742-43f8-9639-ab2a9b9cc672",
   "metadata": {},
   "outputs": [],
   "source": [
    "# Display the weather forecast\n",
    "last_date = pd.to_datetime('2020-06-01')"
   ]
  },
  {
   "cell_type": "code",
   "execution_count": 92,
   "id": "2a86a2ac-dbfa-426f-b9ca-d15a4d7b6175",
   "metadata": {},
   "outputs": [
    {
     "name": "stdout",
     "output_type": "stream",
     "text": [
      "Weather Forecast for the Next 7 Days:\n",
      "Date: 2020-06-02 - Max Temp: 29.01°C, Min Temp: 14.07°C\n",
      "Date: 2020-06-03 - Max Temp: 37.18°C, Min Temp: 18.51°C\n",
      "Date: 2020-06-04 - Max Temp: 21.80°C, Min Temp: 9.07°C\n",
      "Date: 2020-06-05 - Max Temp: 24.91°C, Min Temp: 11.08°C\n",
      "Date: 2020-06-06 - Max Temp: 24.68°C, Min Temp: 14.59°C\n",
      "Date: 2020-06-07 - Max Temp: 46.05°C, Min Temp: 27.06°C\n",
      "Date: 2020-06-08 - Max Temp: 23.75°C, Min Temp: 15.64°C\n"
     ]
    }
   ],
   "source": [
    "print(\"Weather Forecast for the Next 7 Days:\")\n",
    "for i in range(7):\n",
    "    prediction_date = last_date + timedelta(days=i+1)\n",
    "    print(f\"Date: {prediction_date.strftime('%Y-%m-%d')} - Max Temp: {y_max_pred_lstm[i][0]:.2f}°C, Min Temp: {y_min_pred_lstm[i][0]:.2f}°C\")"
   ]
  },
  {
   "cell_type": "code",
   "execution_count": 93,
   "id": "f1d363d1-c1fd-43d3-9028-d3ef4f1a2929",
   "metadata": {},
   "outputs": [],
   "source": [
    "# Calculate performance metrics\n",
    "def evaluate_metrics(y_true, y_pred):\n",
    "    mae = mean_absolute_error(y_true, y_pred)\n",
    "    rmse = np.sqrt(mean_squared_error(y_true, y_pred))\n",
    "    r2 = r2_score(y_true, y_pred)\n",
    "    return mae, rmse, r2\n"
   ]
  },
  {
   "cell_type": "code",
   "execution_count": 94,
   "id": "052c4d9d-fd96-4497-bd6f-874553533962",
   "metadata": {},
   "outputs": [],
   "source": [
    "y_max_test = y_max_test[-7:]\n",
    "y_min_test = y_min_test[-7:]"
   ]
  },
  {
   "cell_type": "code",
   "execution_count": 95,
   "id": "17df1caf-1290-4b46-9e6b-f5cefdc55e56",
   "metadata": {},
   "outputs": [],
   "source": [
    "# Assuming y_test_max and y_test_min are your actual test target values\n",
    "mae_max, rmse_max, r2_max = evaluate_metrics(y_max_test, y_max_pred_lstm)\n",
    "mae_min, rmse_min, r2_min = evaluate_metrics(y_min_test, y_min_pred_lstm)"
   ]
  },
  {
   "cell_type": "code",
   "execution_count": 96,
   "id": "089ee328-d1d7-4317-a1c2-b58844a3ea7b",
   "metadata": {},
   "outputs": [
    {
     "name": "stdout",
     "output_type": "stream",
     "text": [
      "Max Temperature Prediction - MAE: 0.16, RMSE: 0.19, R²: 1.00\n",
      "Min Temperature Prediction - MAE: 0.47, RMSE: 0.57, R²: 0.99\n"
     ]
    }
   ],
   "source": [
    "print(f\"Max Temperature Prediction - MAE: {mae_max:.2f}, RMSE: {rmse_max:.2f}, R²: {r2_max:.2f}\")\n",
    "print(f\"Min Temperature Prediction - MAE: {mae_min:.2f}, RMSE: {rmse_min:.2f}, R²: {r2_min:.2f}\")"
   ]
  },
  {
   "cell_type": "code",
   "execution_count": null,
   "id": "4ba6a623-fcf5-49a9-859f-89ea366fd4c4",
   "metadata": {},
   "outputs": [],
   "source": []
  },
  {
   "cell_type": "code",
   "execution_count": null,
   "id": "4de4b844-3eb7-4d49-9327-5816b6f25b57",
   "metadata": {},
   "outputs": [],
   "source": []
  }
 ],
 "metadata": {
  "kernelspec": {
   "display_name": "Python 3 (ipykernel)",
   "language": "python",
   "name": "python3"
  },
  "language_info": {
   "codemirror_mode": {
    "name": "ipython",
    "version": 3
   },
   "file_extension": ".py",
   "mimetype": "text/x-python",
   "name": "python",
   "nbconvert_exporter": "python",
   "pygments_lexer": "ipython3",
   "version": "3.11.7"
  }
 },
 "nbformat": 4,
 "nbformat_minor": 5
}
